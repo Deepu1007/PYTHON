{
 "cells": [
  {
   "cell_type": "code",
   "execution_count": 5,
   "id": "ca4708a6-49d7-4805-8913-c6b5df52ec86",
   "metadata": {},
   "outputs": [
    {
     "name": "stdout",
     "output_type": "stream",
     "text": [
      "im from bangalore\n",
      "im pursuing mca\n",
      "\n",
      "\n",
      "ok byee\n"
     ]
    }
   ],
   "source": [
    "#1.Write a function in python to read the content from a text file \"ABC.txt\" line by line and display the same on screen. \n",
    "\n",
    "def readfile(filename):\n",
    "    with open(filename, 'r') as file:\n",
    "        for line in file:\n",
    "            print(line.strip())  # Use strip() to remove any leading/trailing whitespace\n",
    "\n",
    "# Call the function\n",
    "readfile(\"Abc.txt\")"
   ]
  },
  {
   "cell_type": "code",
   "execution_count": 7,
   "id": "e1f24e22-90f9-4976-9a1e-6ce2fb276d1b",
   "metadata": {},
   "outputs": [
    {
     "name": "stdout",
     "output_type": "stream",
     "text": [
      "Total number of words in \"Abc.txt\": 8\n"
     ]
    }
   ],
   "source": [
    "#2. Write a function in Python to count and display the total number of words in a text file \"ABC.txt\"\n",
    "\n",
    "def count_words_in_file(filename):\n",
    "    total_words = 0\n",
    "    with open(filename, 'r') as file:\n",
    "        for line in file:\n",
    "            # Split the line into words and count them\n",
    "            words = line.split()\n",
    "            total_words += len(words)\n",
    "    \n",
    "    print(f'Total number of words in \"{filename}\": {total_words}')\n",
    "\n",
    "# Call the function\n",
    "count_words_in_file(\"Abc.txt\")"
   ]
  },
  {
   "cell_type": "code",
   "execution_count": 23,
   "id": "02ffb1f6-7079-44b1-ac5e-e46e9f75a619",
   "metadata": {},
   "outputs": [
    {
     "name": "stdout",
     "output_type": "stream",
     "text": [
      "Total uppercase characters in \"ABC.txt\": 16\n"
     ]
    }
   ],
   "source": [
    "#3. Write a function in Python to count uppercase character\n",
    "\n",
    "def count_uppercase_in_file(filename):\n",
    "    with open(filename, 'r') as file:\n",
    "        text = file.read()\n",
    "    return sum(1 for char in text if char.isupper())\n",
    "\n",
    "# Example usage\n",
    "uppercase_count = count_uppercase_in_file(\"Abc.txt\")\n",
    "print(f'Total uppercase characters in \"ABC.txt\": {uppercase_count}')\n"
   ]
  },
  {
   "cell_type": "code",
   "execution_count": 25,
   "id": "74e68c89-e816-4faf-9aa3-62d0f513bd47",
   "metadata": {},
   "outputs": [
    {
     "name": "stdout",
     "output_type": "stream",
     "text": [
      "a\n",
      "was\n",
      "a\n",
      "who\n",
      "her\n",
      "She\n",
      "had\n",
      "a\n",
      "red\n",
      "a\n",
      "and\n",
      "a\n",
      "toy\n",
      "One\n",
      "her\n",
      "sad\n",
      "to\n",
      "So,\n",
      "she\n",
      "to\n",
      "to\n",
      "the\n",
      "the\n",
      "the\n",
      "and\n",
      "had\n",
      "a\n",
      "her\n",
      "all\n",
      "had\n",
      "so\n",
      "fun\n",
      "her\n",
      "and\n",
      "day\n",
      "on,\n",
      "she\n",
      "on\n",
      "joy\n",
      "and\n",
      "in\n",
      "the\n"
     ]
    }
   ],
   "source": [
    "#4. Write a function display_words() in python to read lines from a text file \"story.txt\", and display those words, which are less than 4 characters\n",
    "\n",
    "def display_words(filename):\n",
    "    with open(filename, 'r') as file:\n",
    "        for line in file:\n",
    "            words = line.split()\n",
    "            for word in words:\n",
    "                if len(word) < 4:\n",
    "                    print(word)\n",
    "\n",
    "# Example usage\n",
    "display_words(\"story.txt\")"
   ]
  },
  {
   "cell_type": "code",
   "execution_count": null,
   "id": "dbab34b0-7059-4783-85f1-2eb7d2b96e44",
   "metadata": {},
   "outputs": [],
   "source": []
  }
 ],
 "metadata": {
  "kernelspec": {
   "display_name": "Python 3 (ipykernel)",
   "language": "python",
   "name": "python3"
  },
  "language_info": {
   "codemirror_mode": {
    "name": "ipython",
    "version": 3
   },
   "file_extension": ".py",
   "mimetype": "text/x-python",
   "name": "python",
   "nbconvert_exporter": "python",
   "pygments_lexer": "ipython3",
   "version": "3.12.7"
  }
 },
 "nbformat": 4,
 "nbformat_minor": 5
}
