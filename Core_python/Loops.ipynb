{
 "cells": [
  {
   "cell_type": "code",
   "execution_count": 5,
   "id": "de404057-c2a9-4464-9d76-7a77dc4f9b3e",
   "metadata": {},
   "outputs": [
    {
     "name": "stdin",
     "output_type": "stream",
     "text": [
      "Enter a number to reverse:  1001\n"
     ]
    },
    {
     "name": "stdout",
     "output_type": "stream",
     "text": [
      "The reversed number is: 1001\n"
     ]
    }
   ],
   "source": [
    "#1. Write a python program to reverse a number using a while loop.\n",
    "\n",
    "def reverse_number(n):\n",
    "    reversed_num = 0  \n",
    "    while n > 0:    \n",
    "        digit = n % 10  # Get the last digit of n\n",
    "        reversed_num = reversed_num * 10 + digit  # Append the digit to the reversed number\n",
    "        n //= 10  # Remove the last digit from n\n",
    "    return reversed_num\n",
    "\n",
    "# Get user input\n",
    "number = int(input(\"Enter a number to reverse: \"))\n",
    "reversed_number = reverse_number(number)\n",
    "\n",
    "# Print the reversed number\n",
    "print(f\"The reversed number is: {reversed_number}\")"
   ]
  },
  {
   "cell_type": "code",
   "execution_count": 15,
   "id": "8da25707-130b-4ba9-a0ca-5d4ce1c7b348",
   "metadata": {},
   "outputs": [
    {
     "name": "stdin",
     "output_type": "stream",
     "text": [
      "Enter a number to check if it is a palindrome:  1001\n"
     ]
    },
    {
     "name": "stdout",
     "output_type": "stream",
     "text": [
      "1001 is a palindrome.\n"
     ]
    }
   ],
   "source": [
    "#2. Write a python program to check whether a number is palindrome or not?\n",
    "\n",
    "\n",
    "def is_palindrome(n):\n",
    "    original_number = n  # Store the original number\n",
    "    reversed_number = 0   # Initialize the reversed number to 0\n",
    "\n",
    "    # Reverse the number\n",
    "    while n > 0:\n",
    "        digit = n % 10  # Get the last digit\n",
    "        reversed_number = reversed_number * 10 + digit  # Build the reversed number\n",
    "        n //= 10  # Remove the last digit\n",
    "\n",
    "    # Check if the original number and reversed number are the same\n",
    "    return original_number == reversed_number\n",
    "\n",
    "\n",
    "number = int(input(\"Enter a number to check if it is a palindrome: \"))\n",
    "\n",
    "\n",
    "if is_palindrome(number):\n",
    "    print(f\"{number} is a palindrome.\")\n",
    "else:\n",
    "    print(f\"{number} is not a palindrome.\")"
   ]
  },
  {
   "cell_type": "code",
   "execution_count": 19,
   "id": "08c643d6-a4f4-4e10-8204-6efa574421b0",
   "metadata": {},
   "outputs": [
    {
     "name": "stdin",
     "output_type": "stream",
     "text": [
      "enter a positive number:  5\n"
     ]
    },
    {
     "name": "stdout",
     "output_type": "stream",
     "text": [
      "The factorial of 5 is 120\n"
     ]
    }
   ],
   "source": [
    "#3. Write a python program finding the factorial of a given number using a while loop.\n",
    "\n",
    "\n",
    "def factorial(n):\n",
    "    if n < 0:\n",
    "        return \"enter only positive numbers.\"\n",
    "    elif n == 0 or n == 1:\n",
    "        return 1\n",
    "    else:\n",
    "        result = 1\n",
    "        while n > 1: \n",
    "            result *= n  \n",
    "            n -= 1  \n",
    "        return result\n",
    "\n",
    "\n",
    "number = int(input(\"enter a positive number: \"))\n",
    "fact = factorial(number)\n",
    "\n",
    "print(f\"The factorial of {number} is {fact}\")"
   ]
  },
  {
   "cell_type": "code",
   "execution_count": 21,
   "id": "765ef34a-d3d3-4e4c-a457-8dd7816a182c",
   "metadata": {},
   "outputs": [
    {
     "name": "stdin",
     "output_type": "stream",
     "text": [
      "Enter a number (0 to stop):  3\n",
      "Enter a number (0 to stop):  3\n",
      "Enter a number (0 to stop):  2\n",
      "Enter a number (0 to stop):  0\n"
     ]
    },
    {
     "name": "stdout",
     "output_type": "stream",
     "text": [
      "The sum of all entered numbers is: 8\n"
     ]
    }
   ],
   "source": [
    "#4. Accept numbers using input() function until the user enters 0. If user input 0 then break the while loop and display the sum of all the numbers.\n",
    "\n",
    "total_sum = 0\n",
    "\n",
    "while True:\n",
    "   \n",
    "    number = int(input(\"Enter a number (0 to stop): \"))\n",
    "    \n",
    "    if number == 0:\n",
    "        break \n",
    "    \n",
    "    total_sum += number\n",
    "print(f\"The sum of all entered numbers is: {total_sum}\")"
   ]
  },
  {
   "cell_type": "code",
   "execution_count": null,
   "id": "992bfd48-4243-432c-b856-acbb70f38bd3",
   "metadata": {},
   "outputs": [],
   "source": []
  }
 ],
 "metadata": {
  "kernelspec": {
   "display_name": "Python 3 (ipykernel)",
   "language": "python",
   "name": "python3"
  },
  "language_info": {
   "codemirror_mode": {
    "name": "ipython",
    "version": 3
   },
   "file_extension": ".py",
   "mimetype": "text/x-python",
   "name": "python",
   "nbconvert_exporter": "python",
   "pygments_lexer": "ipython3",
   "version": "3.12.7"
  }
 },
 "nbformat": 4,
 "nbformat_minor": 5
}
