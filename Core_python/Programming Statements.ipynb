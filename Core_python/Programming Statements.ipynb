{
 "cells": [
  {
   "cell_type": "code",
   "execution_count": 26,
   "id": "b126df8f-8322-4e03-92fa-bfdf4c17216c",
   "metadata": {},
   "outputs": [
    {
     "name": "stdin",
     "output_type": "stream",
     "text": [
      "Enter a number:  12\n"
     ]
    },
    {
     "name": "stdout",
     "output_type": "stream",
     "text": [
      "The number 12 is Even.\n"
     ]
    }
   ],
   "source": [
    "#1. using input() function take one number from the user and using ternary operators check whether the number is even or odd\n",
    "\n",
    "#input statement\n",
    "number = int(input(\"Enter a number: \"))\n",
    "\n",
    "#checking the condition \n",
    "result = \"Even\" if number % 2 == 0 else \"Odd\"\n",
    "\n",
    "#printing the result\n",
    "print(f\"The number {number} is {result}.\")"
   ]
  },
  {
   "cell_type": "code",
   "execution_count": 34,
   "id": "8a3c9934-6f4d-4db6-8464-c88017a29408",
   "metadata": {},
   "outputs": [
    {
     "name": "stdin",
     "output_type": "stream",
     "text": [
      "Enter the first number:  12\n",
      "Enter the second number:  13\n"
     ]
    },
    {
     "name": "stdout",
     "output_type": "stream",
     "text": [
      "before swapping \n",
      " First Number  = 12\n",
      " Second Number = 13\n",
      "After swapping \n",
      "First Number  = 13\n",
      "Second Number  = 12\n"
     ]
    }
   ],
   "source": [
    "#2. using input function take two number and then swap the number\n",
    "\n",
    "#input statement\n",
    "num1 = input(\"Enter the first number: \")\n",
    "num2 = input(\"Enter the second number: \")\n",
    "\n",
    "print(\"before swapping \")\n",
    "print(f\" First Number  = {num1}\")\n",
    "print(f\" Second Number = {num2}\")\n",
    "#swapping the number using temporary variable\n",
    "temp = num1\n",
    "num1 = num2\n",
    "num2 = temp\n",
    "\n",
    "#printing the output of swapped numbers\n",
    "print(\"After swapping \")\n",
    "print(f\"First Number  = {num1}\")\n",
    "print(f\"Second Number  = {num2}\")"
   ]
  },
  {
   "cell_type": "code",
   "execution_count": 9,
   "id": "28b36254-9b9c-4cee-8b90-1191cd02308b",
   "metadata": {},
   "outputs": [
    {
     "name": "stdin",
     "output_type": "stream",
     "text": [
      "Enter the distance in kilometers:  10\n"
     ]
    },
    {
     "name": "stdout",
     "output_type": "stream",
     "text": [
      "10.0 kilometers is equal to 6.21371 miles.\n"
     ]
    }
   ],
   "source": [
    "#3. write a program to convert kilometers to miles\n",
    "\n",
    "#input statement\n",
    "kilometers = float(input(\"Enter the distance in kilometers: \"))\n",
    "\n",
    "#formula for converting the kilometers into miles\n",
    "miles = kilometers * 0.621371\n",
    "\n",
    "#printing the output\n",
    "print(f\"{kilometers} kilometers is equal to {miles} miles.\")"
   ]
  },
  {
   "cell_type": "code",
   "execution_count": 18,
   "id": "60100b70-82e5-4deb-8d2d-0889a1a097c1",
   "metadata": {},
   "outputs": [
    {
     "name": "stdout",
     "output_type": "stream",
     "text": [
      "The simple interest of ₹200 5 years  is ₹50.0.\n"
     ]
    }
   ],
   "source": [
    "#4. find the simple interest on rs.200 for 5 years at 5% per year\n",
    "\n",
    "#assigning the value to the variable\n",
    "P = 200  \n",
    "R = 5   \n",
    "T = 5   \n",
    "\n",
    "#formula for simple intrest\n",
    "simple_interest = (P * R * T) / 100\n",
    "\n",
    "#printing the output\n",
    "print(f\"The simple interest of ₹{Price} 5 years  is ₹{simple_interest}.\")"
   ]
  }
 ],
 "metadata": {
  "kernelspec": {
   "display_name": "Python 3 (ipykernel)",
   "language": "python",
   "name": "python3"
  },
  "language_info": {
   "codemirror_mode": {
    "name": "ipython",
    "version": 3
   },
   "file_extension": ".py",
   "mimetype": "text/x-python",
   "name": "python",
   "nbconvert_exporter": "python",
   "pygments_lexer": "ipython3",
   "version": "3.12.7"
  }
 },
 "nbformat": 4,
 "nbformat_minor": 5
}
