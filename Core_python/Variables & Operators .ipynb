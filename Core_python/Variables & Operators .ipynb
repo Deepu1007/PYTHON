{
 "cells": [
  {
   "cell_type": "code",
   "execution_count": 1,
   "id": "6a29a184-c9b4-45cb-bd1f-b4bb23595885",
   "metadata": {},
   "outputs": [
    {
     "name": "stdout",
     "output_type": "stream",
     "text": [
      "addition of a + b = 30\n",
      "multiplication of a * b= 200\n"
     ]
    }
   ],
   "source": [
    "#1.multipliaction and addition of two number\n",
    "\n",
    "a=10\n",
    "b=20\n",
    "addition=a+b\n",
    "multiplication=a*b\n",
    "print(\"addition of a + b =\", addition)\n",
    "print(\"multiplication of a * b=\" , multiplication)\n"
   ]
  },
  {
   "cell_type": "code",
   "execution_count": 5,
   "id": "4bae8ee3-8623-4972-8765-f0dbb76833f6",
   "metadata": {},
   "outputs": [
    {
     "name": "stdout",
     "output_type": "stream",
     "text": [
      "The largest variable is: 20\n"
     ]
    }
   ],
   "source": [
    "#2. declare two variables and print that which variable is largerst using ternary operator using python\n",
    "\n",
    "a = 10                                                                        \n",
    "b = 20\n",
    "largest = a if a > b else b                                                 \n",
    "print(f\"The largest variable is:\",largest)\n"
   ]
  },
  {
   "cell_type": "code",
   "execution_count": 17,
   "id": "7bdea4bb-c9d9-486d-aae9-0fe012877eda",
   "metadata": {},
   "outputs": [
    {
     "name": "stdin",
     "output_type": "stream",
     "text": [
      "Enter temperature in degrees Celsius:  33\n"
     ]
    },
    {
     "name": "stdout",
     "output_type": "stream",
     "text": [
      "fahrenheit of given celsius is =  91.4\n"
     ]
    }
   ],
   "source": [
    "#3. python program to convert the temperature in degree centigrade to fahernheit\n",
    "\n",
    "def celsius_to_fahrenheit(celsius):\n",
    "    fahrenheit = (9/5) * celsius + 32 \n",
    "    return fahrenheit\n",
    "\n",
    "\n",
    "celsius = float(input(\"Enter temperature in degrees Celsius: \"))  #Input: temperature in Celsius\n",
    "\n",
    "fahrenheit = celsius_to_fahrenheit(celsius)  # Convert celsius to Fahrenheit\n",
    "\n",
    "# Output\n",
    "print(\"fahrenheit of given celsius is = \",fahrenheit)"
   ]
  },
  {
   "cell_type": "code",
   "execution_count": 1,
   "id": "a12b7a0a-3515-4210-922d-924d7706f293",
   "metadata": {},
   "outputs": [
    {
     "name": "stdin",
     "output_type": "stream",
     "text": [
      "Enter the length of side a:  2\n",
      "Enter the length of side b:  3\n",
      "Enter the length of side c:  4\n"
     ]
    },
    {
     "name": "stdout",
     "output_type": "stream",
     "text": [
      "The area of the triangle is: 2.9047375096555625\n"
     ]
    }
   ],
   "source": [
    "#4. python program to find areea of triangle whose sides are given\n",
    "\n",
    "import math\n",
    "\n",
    "def calculate_area_of_triangle(a, b, c):\n",
    "    # Check if the sides can form a triangle\n",
    "    if a + b <= c :\n",
    "        return \"The given sides do not form a triangle.\"\n",
    "    \n",
    "    # Calculate the semi-perimeter\n",
    "    s = (a + b + c) / 2\n",
    "    \n",
    "    # Calculate the area using Heron's formula\n",
    "    area = math.sqrt(s * (s - a) * (s - b) * (s - c))\n",
    "    return area\n",
    "\n",
    "# Input: lengths of the sides of the triangle\n",
    "a = float(input(\"Enter the length of side a: \"))\n",
    "b = float(input(\"Enter the length of side b: \"))\n",
    "c = float(input(\"Enter the length of side c: \"))\n",
    "\n",
    "# Calculate and print the area\n",
    "area = calculate_area_of_triangle(a, b, c)\n",
    "print(\"The area of the triangle is:\", area)"
   ]
  },
  {
   "cell_type": "code",
   "execution_count": 43,
   "id": "0fe01d61-ffab-4cd7-9776-d93af30fd1f8",
   "metadata": {},
   "outputs": [
    {
     "name": "stdout",
     "output_type": "stream",
     "text": [
      "45\n",
      "21\n",
      "396\n",
      "9\n",
      "2\n",
      "45\n"
     ]
    }
   ],
   "source": [
    "#5. Arithmetic Operators\n",
    "\n",
    "a=33\n",
    "b=12\n",
    "addition=a+b\n",
    "subtraction=a-b\n",
    "multiplication=a*b\n",
    "division=a/b\n",
    "modulo=a%b\n",
    "floor=a//b\n",
    "\n",
    "print(addition)\n",
    "print(subtraction)\n",
    "print(multiplication)\n",
    "print(modulo)\n",
    "print(floor)\n",
    "print(addition)"
   ]
  }
 ],
 "metadata": {
  "kernelspec": {
   "display_name": "Python 3 (ipykernel)",
   "language": "python",
   "name": "python3"
  },
  "language_info": {
   "codemirror_mode": {
    "name": "ipython",
    "version": 3
   },
   "file_extension": ".py",
   "mimetype": "text/x-python",
   "name": "python",
   "nbconvert_exporter": "python",
   "pygments_lexer": "ipython3",
   "version": "3.12.7"
  }
 },
 "nbformat": 4,
 "nbformat_minor": 5
}
