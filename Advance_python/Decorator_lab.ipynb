{
 "cells": [
  {
   "cell_type": "code",
   "execution_count": 1,
   "id": "9580e2dd-6f52-4933-9758-451a6b9f3dd0",
   "metadata": {},
   "outputs": [
    {
     "name": "stdout",
     "output_type": "stream",
     "text": [
      "3.0\n",
      "Invalid argument: -9. Must be a non-negative integer.\n"
     ]
    }
   ],
   "source": [
    "'''1. Write a decorator that ensures that all input arguments to a function are non-negative integers. \n",
    "Output: \n",
    "print(calculate_square_root(9)) # Valid \n",
    "print(calculate_square_root(-9)) # Invalid '''\n",
    "\n",
    "def non_negative_integers_only(func):\n",
    "    def wrapper(*args):\n",
    "        for arg in args:\n",
    "            if not isinstance(arg, int) or arg < 0:\n",
    "                raise ValueError(f\"Invalid argument: {arg}. Must be a non-negative integer.\")\n",
    "        return func(*args)\n",
    "    return wrapper\n",
    "\n",
    "@non_negative_integers_only\n",
    "def calculate_square_root(n):\n",
    "    return n ** 0.5\n",
    "\n",
    "# Test cases\n",
    "print(calculate_square_root(9))  # Valid\n",
    "try:\n",
    "    print(calculate_square_root(-9))  # Invalid\n",
    "except ValueError as e:\n",
    "    print(e)"
   ]
  },
  {
   "cell_type": "code",
   "execution_count": 3,
   "id": "a01b3dc4-93ee-4030-a202-b97e09f82af5",
   "metadata": {},
   "outputs": [
    {
     "name": "stdout",
     "output_type": "stream",
     "text": [
      "Calling multiply with arguments: (4, 5) and keyword arguments: {}\n",
      "multiply returned: 20\n"
     ]
    },
    {
     "data": {
      "text/plain": [
       "20"
      ]
     },
     "execution_count": 3,
     "metadata": {},
     "output_type": "execute_result"
    }
   ],
   "source": [
    "'''2. Write a decorator that prints out the function's name, arguments, and return value every time it is called. This can help debug and trace the execution of the function \n",
    "Output: \n",
    "Calling multiply with arguments: (4, 5) and keyword arguments: () \n",
    "multiply returned: 20 '''\n",
    "\n",
    "\n",
    "def debug_function(func):\n",
    "    def wrapper(*args, **kwargs):\n",
    "        print(f\"Calling {func.__name__} with arguments: {args} and keyword arguments: {kwargs}\")\n",
    "        result = func(*args, **kwargs)\n",
    "        print(f\"{func.__name__} returned: {result}\")\n",
    "        return result\n",
    "    return wrapper\n",
    "\n",
    "@debug_function\n",
    "def multiply(a, b):\n",
    "    return a * b\n",
    "\n",
    "# Test case\n",
    "multiply(4, 5)"
   ]
  },
  {
   "cell_type": "code",
   "execution_count": 5,
   "id": "e0934905-d0de-44d8-a420-df6b9d08db0f",
   "metadata": {},
   "outputs": [
    {
     "name": "stdout",
     "output_type": "stream",
     "text": [
      "Hello!\n",
      "Hello!\n",
      "Hello!\n"
     ]
    }
   ],
   "source": [
    "'''3. Write a decorator that repeats the execution of a function a specified number of times \n",
    "Output: \n",
    "Hello! \n",
    "Hello! \n",
    "Hello! '''\n",
    "\n",
    "def repeat_execution(times):\n",
    "    def decorator(func):\n",
    "        def wrapper(*args, **kwargs):\n",
    "            for _ in range(times):\n",
    "                func(*args, **kwargs)\n",
    "        return wrapper\n",
    "    return decorator\n",
    "\n",
    "@repeat_execution(3)\n",
    "def say_hello():\n",
    "    print(\"Hello!\")\n",
    "\n",
    "# Test case\n",
    "say_hello()"
   ]
  },
  {
   "cell_type": "code",
   "execution_count": 7,
   "id": "00191892-0612-4ae3-b056-888c05a8e4d2",
   "metadata": {},
   "outputs": [
    {
     "name": "stdout",
     "output_type": "stream",
     "text": [
      "greet has been called 1 times.\n",
      "Hello, Alice\n",
      "greet has been called 2 times.\n",
      "Hello, Bob\n",
      "greet has been called 3 times.\n",
      "Hello, Charlie\n"
     ]
    }
   ],
   "source": [
    "''' 4. Write a decorator that counts the number of times a function has been called. \n",
    "Output: \n",
    "greet has been called 1 times. \n",
    "Hello, Alice \n",
    "greet has been called 2 times \n",
    "Hello, Bob \n",
    "greet has been called 3 times \n",
    "Hello, Charlie'''\n",
    "\n",
    "def count_calls(func):\n",
    "    def wrapper(*args, **kwargs):\n",
    "        wrapper.call_count += 1\n",
    "        print(f\"{func.__name__} has been called {wrapper.call_count} times.\")\n",
    "        return func(*args, **kwargs)\n",
    "    \n",
    "    wrapper.call_count = 0\n",
    "    return wrapper\n",
    "\n",
    "@count_calls\n",
    "def greet(name):\n",
    "    print(f\"Hello, {name}\")\n",
    "\n",
    "# Test cases\n",
    "greet(\"Alice\")\n",
    "greet(\"Bob\")\n",
    "greet(\"Charlie\")"
   ]
  },
  {
   "cell_type": "code",
   "execution_count": null,
   "id": "dec687c6-f6ec-4867-bbb5-f30f4a9a625d",
   "metadata": {},
   "outputs": [],
   "source": []
  }
 ],
 "metadata": {
  "kernelspec": {
   "display_name": "Python 3 (ipykernel)",
   "language": "python",
   "name": "python3"
  },
  "language_info": {
   "codemirror_mode": {
    "name": "ipython",
    "version": 3
   },
   "file_extension": ".py",
   "mimetype": "text/x-python",
   "name": "python",
   "nbconvert_exporter": "python",
   "pygments_lexer": "ipython3",
   "version": "3.12.7"
  }
 },
 "nbformat": 4,
 "nbformat_minor": 5
}
