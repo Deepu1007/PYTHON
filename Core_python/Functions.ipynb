{
 "cells": [
  {
   "cell_type": "code",
   "execution_count": 5,
   "id": "10aed54c-fe3b-41af-8299-80a1968cf4f1",
   "metadata": {},
   "outputs": [
    {
     "name": "stdin",
     "output_type": "stream",
     "text": [
      "Enter the first number:  10\n",
      "Enter the second number:  2\n"
     ]
    },
    {
     "name": "stdout",
     "output_type": "stream",
     "text": [
      "The result of dividing 10 by 2 is: 5.0\n"
     ]
    }
   ],
   "source": [
    "#1.\tDeclare a div() function with two parameters. Then call the function and pass two numbers and display their division.\n",
    "\n",
    "def div(num1, num2):\n",
    "    # Check if the second number is not zero to avoid division by zero\n",
    "    if num2 == 0:\n",
    "        return \"Error: Division by zero is not allowed.\"\n",
    "    else:\n",
    "        return num1 / num2\n",
    "\n",
    "# Input from the user\n",
    "number1 = int(input(\"Enter the first number: \"))\n",
    "number2 = int(input(\"Enter the second number: \"))\n",
    "\n",
    "# Call the div function and store the result\n",
    "result = div(number1, number2)\n",
    "\n",
    "# Display the result\n",
    "print(f\"The result of dividing {number1} by {number2} is: {result}\")"
   ]
  },
  {
   "cell_type": "code",
   "execution_count": 9,
   "id": "36c3e9e9-88f6-45b4-b82d-3b4bf2afee1e",
   "metadata": {},
   "outputs": [
    {
     "name": "stdin",
     "output_type": "stream",
     "text": [
      "Enter a number:  5\n"
     ]
    },
    {
     "name": "stdout",
     "output_type": "stream",
     "text": [
      "The square of 5 is: 25\n"
     ]
    }
   ],
   "source": [
    "#2. Declare a square() function with one parameter. Then call the function and pass one number and display the square of that number.\n",
    "\n",
    "def square(num):\n",
    "    # Calculate the square of the number\n",
    "    return num * num\n",
    "\n",
    "# Input from the user\n",
    "number = int(input(\"Enter a number: \"))\n",
    "\n",
    "# Call the square function and store the result\n",
    "result = square(number)\n",
    "\n",
    "# Display the result\n",
    "print(f\"The square of {number} is: {result}\")"
   ]
  },
  {
   "cell_type": "code",
   "execution_count": 15,
   "id": "23026f01-db28-44fc-9e72-f7222a133e99",
   "metadata": {},
   "outputs": [
    {
     "name": "stdout",
     "output_type": "stream",
     "text": [
      "Random numbers: [66, 36, 39, 31, 30]\n",
      "The maximum number is: 66\n",
      "The minimum number is: 30\n"
     ]
    }
   ],
   "source": [
    "#3.\tUsing max() and min() functions display the maximum and minimum of 5 random numbers.\n",
    "\n",
    "import random\n",
    "\n",
    "# Generate 5 random numbers\n",
    "random_numbers = [random.randint(1, 100) for _ in range(5)]\n",
    "\n",
    "# Display the random numbers\n",
    "print(\"Random numbers:\", random_numbers)\n",
    "\n",
    "# Find the maximum and minimum using max() and min() functions\n",
    "maximum = max(random_numbers)\n",
    "minimum = min(random_numbers)\n",
    "\n",
    "# Display the results\n",
    "print(f\"The maximum number is: {maximum}\")\n",
    "print(f\"The minimum number is: {minimum}\")"
   ]
  },
  {
   "cell_type": "code",
   "execution_count": 17,
   "id": "9f020e65-be46-4194-a9c0-4c4336ca4fee",
   "metadata": {},
   "outputs": [
    {
     "name": "stdin",
     "output_type": "stream",
     "text": [
      "Enter your name:  DEEPAK\n"
     ]
    },
    {
     "name": "stdout",
     "output_type": "stream",
     "text": [
      "The name in lower case is: deepak\n"
     ]
    }
   ],
   "source": [
    "#4. Accept a name from the user and display that in lower case using lower() function\n",
    "\n",
    "# Input from the user\n",
    "name = input(\"Enter your name: \")\n",
    "\n",
    "# Convert the name to lower case\n",
    "lower_case_name = name.lower()\n",
    "\n",
    "# Display the result\n",
    "print(f\"The name in lower case is: {lower_case_name}\")"
   ]
  },
  {
   "cell_type": "code",
   "execution_count": 19,
   "id": "d3ac4eee-6b36-4523-81da-b26ada23857a",
   "metadata": {},
   "outputs": [
    {
     "name": "stdout",
     "output_type": "stream",
     "text": [
      "The number 10 is: Positive\n",
      "The number -5 is: Negative\n",
      "The number 0 is: Zero\n",
      "The number 3.5 is: Positive\n",
      "The number -2.2 is: Negative\n"
     ]
    }
   ],
   "source": [
    "#5.\t Write a lambda function that takes one argument and returns 'Positive' if the number is greater than 0, 'Negative' if it's less than 0, and 'Zero' if it's 0. Test it with different numbers.\n",
    "\n",
    "# Define the lambda function\n",
    "check_number = lambda x: 'Positive' if x > 0 else 'Negative' if x < 0 else 'Zero'\n",
    "\n",
    "# Test the lambda function with different numbers\n",
    "test_numbers = [10, -5, 0, 3.5, -2.2]\n",
    "\n",
    "# Display the results\n",
    "for number in test_numbers:\n",
    "    result = check_number(number)\n",
    "    print(f\"The number {number} is: {result}\")"
   ]
  }
 ],
 "metadata": {
  "kernelspec": {
   "display_name": "Python 3 (ipykernel)",
   "language": "python",
   "name": "python3"
  },
  "language_info": {
   "codemirror_mode": {
    "name": "ipython",
    "version": 3
   },
   "file_extension": ".py",
   "mimetype": "text/x-python",
   "name": "python",
   "nbconvert_exporter": "python",
   "pygments_lexer": "ipython3",
   "version": "3.12.7"
  }
 },
 "nbformat": 4,
 "nbformat_minor": 5
}
