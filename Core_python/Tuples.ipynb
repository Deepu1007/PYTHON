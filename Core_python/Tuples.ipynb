{
 "cells": [
  {
   "cell_type": "code",
   "execution_count": 13,
   "id": "8ce2296e-a477-4566-9a58-ea7203681e1a",
   "metadata": {},
   "outputs": [
    {
     "name": "stdout",
     "output_type": "stream",
     "text": [
      "Number of times 4 appears in the tuple: 4\n"
     ]
    }
   ],
   "source": [
    "#1 .Write a Python program to find the number of times 4 appears in the fuple.\n",
    "\n",
    "tuplex = (2, 4, 5, 6, 2, 3, 4, 4, 4, 7)\n",
    "\n",
    "\n",
    "counting = tuplex.count(4)\n",
    "\n",
    "# Print the result\n",
    "print(\"Number of times 4 appears in the tuple:\", counting )\n"
   ]
  },
  {
   "cell_type": "code",
   "execution_count": 15,
   "id": "00d9bbb8-3528-432d-bfe8-5c3f44ef2472",
   "metadata": {},
   "outputs": [
    {
     "name": "stdout",
     "output_type": "stream",
     "text": [
      "Converted tuple: (5, 10, 7, 4, 15, 3)\n"
     ]
    }
   ],
   "source": [
    "#2. Write a Python program to convert a list to a tuple.\n",
    "\n",
    "listx = [5, 10, 7, 4, 15, 3]\n",
    "\n",
    "tuplex = tuple(listx)  # Convert list to tuple\n",
    "\n",
    "print(\"Converted tuple:\", tuplex)  #printing the output"
   ]
  },
  {
   "cell_type": "code",
   "execution_count": 17,
   "id": "1a9d3f78-6d7e-47ae-b115-162103a4e814",
   "metadata": {},
   "outputs": [
    {
     "name": "stdout",
     "output_type": "stream",
     "text": [
      "Sum of the numbers in the tuples: 21\n"
     ]
    }
   ],
   "source": [
    "#3. Write a Python program to calculate the sum of the numbers in a given tuple.\n",
    "\n",
    "\n",
    "tuples_list = [(1, 2), (3, 4), (5, 6)]  # Input list of tuples\n",
    "\n",
    "# Calculate the sum of all numbers in the tuples\n",
    "total_sum = sum(num for tup in tuples_list for num in tup)\n",
    "\n",
    "print(\"Sum of the numbers in the tuples:\", total_sum)  #printing the output"
   ]
  },
  {
   "cell_type": "code",
   "execution_count": 21,
   "id": "148ddc5c-eeb6-45a8-bb61-2930c26fd060",
   "metadata": {},
   "outputs": [
    {
     "name": "stdout",
     "output_type": "stream",
     "text": [
      "Name : John Doe, ID : 101, Department : Human Resources, Salary : $60000\n",
      "Name : Alice Smith, ID : 102, Department : Marketing, Salary : $55000\n",
      "Name : Bob Johnson, ID : 103, Department : Engineering, Salary : $75000\n"
     ]
    }
   ],
   "source": [
    "#4. Write a python program and iterate the given tuples\n",
    "\n",
    "employee1 = (\"John Doe\", 101, \"Human Resources\", 60000)\n",
    "employee2 = (\"Alice Smith\", 102, \"Marketing\", 55000)\n",
    "employee3 = (\"Bob Johnson\", 103, \"Engineering\", 75000)\n",
    "\n",
    "employees = [employee1, employee2, employee3]\n",
    "\n",
    "# Iterate through the tuples and print details\n",
    "for employee in employees:\n",
    "    name, id, department, salary = employee\n",
    "    print(f\"Name : {name}, ID : {id}, Department : {department}, Salary : ${salary}\")"
   ]
  }
 ],
 "metadata": {
  "kernelspec": {
   "display_name": "Python 3 (ipykernel)",
   "language": "python",
   "name": "python3"
  },
  "language_info": {
   "codemirror_mode": {
    "name": "ipython",
    "version": 3
   },
   "file_extension": ".py",
   "mimetype": "text/x-python",
   "name": "python",
   "nbconvert_exporter": "python",
   "pygments_lexer": "ipython3",
   "version": "3.12.7"
  }
 },
 "nbformat": 4,
 "nbformat_minor": 5
}
