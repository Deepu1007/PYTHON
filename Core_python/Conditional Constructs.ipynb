{
 "cells": [
  {
   "cell_type": "code",
   "execution_count": 11,
   "id": "1bf3b921-c1b9-4ab7-8064-1e28d8d603fe",
   "metadata": {},
   "outputs": [
    {
     "name": "stdin",
     "output_type": "stream",
     "text": [
      "Enter a year:  2004\n"
     ]
    },
    {
     "name": "stdout",
     "output_type": "stream",
     "text": [
      "2004 is a leap year.\n"
     ]
    }
   ],
   "source": [
    "#1.\tPython program to check leap year\n",
    "\n",
    "# Input from the user\n",
    "year = int(input(\"Enter a year: \"))\n",
    "\n",
    "# Check if the year is a leap year\n",
    "if (year % 4 == 0 and year % 100 != 0) or (year % 400 == 0):\n",
    "    print(f\"{year} is a leap year.\")\n",
    "else:\n",
    "    print(f\"{year} is not a leap year.\")"
   ]
  },
  {
   "cell_type": "code",
   "execution_count": 15,
   "id": "301dddc0-49e2-4dda-8536-25d64259b589",
   "metadata": {},
   "outputs": [
    {
     "name": "stdin",
     "output_type": "stream",
     "text": [
      "Enter the first number:  3\n",
      "Enter the second number:  4\n",
      "Enter the third number:  5\n"
     ]
    },
    {
     "name": "stdout",
     "output_type": "stream",
     "text": [
      "The largest number among three number is: 5\n"
     ]
    }
   ],
   "source": [
    "#2.\tPython program to largest amoung three number\n",
    "\n",
    "# Input from the user\n",
    "number1 = int(input(\"Enter the first number: \"))\n",
    "number2 = int(input(\"Enter the second number: \"))\n",
    "number3 = int(input(\"Enter the third number: \"))\n",
    "\n",
    "# Initialize largest with the first number\n",
    "largest = number1\n",
    "\n",
    "# Compare with the second number\n",
    "if number2 > largest:\n",
    "    largest = number2\n",
    "\n",
    "# Compare with the third number\n",
    "if number3 > largest:\n",
    "    largest = number3\n",
    "\n",
    "# Print the result\n",
    "print(f\"The largest number among three number is: {largest}\")"
   ]
  },
  {
   "cell_type": "code",
   "execution_count": 43,
   "id": "7dfb626f-ccbf-4ee1-8fb9-37c38cda50cc",
   "metadata": {},
   "outputs": [
    {
     "name": "stdin",
     "output_type": "stream",
     "text": [
      "Enter a number:  -10\n"
     ]
    },
    {
     "name": "stdout",
     "output_type": "stream",
     "text": [
      "-10 is a negative number.\n"
     ]
    }
   ],
   "source": [
    "#3.\tPython program to check if a number is positive or negative\n",
    "# input \n",
    "number = int(input(\"Enter a number: \"))\n",
    "\n",
    "if number > 0:\n",
    "    print(f\"{number} is a positive number.\")\n",
    "elif number < 0:\n",
    "    print(f\"{number} is a negative number.\")\n",
    "else:\n",
    "    print(\"The number is zero.\")"
   ]
  },
  {
   "cell_type": "code",
   "execution_count": 35,
   "id": "0695258e-112b-4117-8042-188ab5f78dc3",
   "metadata": {},
   "outputs": [
    {
     "name": "stdin",
     "output_type": "stream",
     "text": [
      "Enter the product code (1 for Battery Based Toys, 2 for Key-based Toys, 3 for Electrical Charging Based Toys):  3\n",
      "Enter the order amount:  10000\n"
     ]
    },
    {
     "name": "stdout",
     "output_type": "stream",
     "text": [
      "The net amount to be paid after discount is: Rs. 9000.00\n"
     ]
    }
   ],
   "source": [
    "#4.\tA toy vendor supplies three types of toys: Battery Based Toys, Key-based Toys, and Electrical Charging Based Toys. The vendor gives a discount of 10% on orders for battery-based toys if the order is for more than Rs. 1000. On orders of more than Rs. 100 for key-based toys, a discount of 5% is given, and a discount of 10% is given on orders for electrical charging based toys of value more than Rs. 500. Assume that the numeric codes 1,2 and 3 are used for battery based toys, key-based toys, and electrical charging based toys respectively. Write a program that reads the product code and the order amount and prints out the net amount that the customer is required to pay after the discount.\n",
    "\n",
    "# Input from the user\n",
    "product_code = int(input(\"Enter the product code (1 for Battery Based Toys, 2 for Key-based Toys, 3 for Electrical Charging Based Toys): \"))\n",
    "order_amount = float(input(\"Enter the order amount: \"))\n",
    "\n",
    "# Initialize the discount variable\n",
    "discount = 0\n",
    "\n",
    "# Determine the discount based on the product code and order amount\n",
    "if product_code == 1:  # Battery Based Toys\n",
    "    if order_amount > 1000:\n",
    "        discount = 0.10  # 10% discount\n",
    "elif product_code == 2:  # Key-based Toys\n",
    "    if order_amount > 100:\n",
    "        discount = 0.05  # 5% discount\n",
    "elif product_code == 3:  # Electrical Charging Based Toys\n",
    "    if order_amount > 500:\n",
    "        discount = 0.10  # 10% discount\n",
    "\n",
    "# Calculate the net amount after discount\n",
    "net_amount = order_amount - (order_amount * discount)\n",
    "\n",
    "# Print the result\n",
    "print(f\"The net amount to be paid after discount is: Rs. {net_amount:.2f}\")"
   ]
  },
  {
   "cell_type": "code",
   "execution_count": 37,
   "id": "5a8a4375-3a6b-4093-a1d1-cc81786147d0",
   "metadata": {},
   "outputs": [
    {
     "name": "stdin",
     "output_type": "stream",
     "text": [
      "Enter the distance traveled in kilometers:  52\n"
     ]
    },
    {
     "name": "stdout",
     "output_type": "stream",
     "text": [
      "The total fare for 52.0 km is: Rs. 420.00\n"
     ]
    }
   ],
   "source": [
    "# 5\n",
    "\n",
    "# Input from the user\n",
    "distance = float(input(\"Enter the distance traveled in kilometers: \"))\n",
    "\n",
    "# Initialize the fare variable\n",
    "fare = 0\n",
    "\n",
    "# Calculate fare based on the distance\n",
    "if distance <= 50:\n",
    "    fare = distance * 8  # Rs. 8 per km for 1-50 km\n",
    "elif distance <= 100:\n",
    "    fare = (50 * 8) + ((distance - 50) * 10)  # Rs. 8 for the first 50 km and Rs. 10 for the next\n",
    "else:\n",
    "    fare = (50 * 8) + (50 * 10) + ((distance - 100) * 12)  # Rs. 8 for the first 50 km, Rs. 10 for the next 50 km, and Rs. 12 for more than 100 km\n",
    "\n",
    "# Print the result\n",
    "print(f\"The total fare for {distance} km is: Rs. {fare:.2f}\")"
   ]
  },
  {
   "cell_type": "code",
   "execution_count": null,
   "id": "71342796-49ec-40bd-ad46-fe103a5b34aa",
   "metadata": {},
   "outputs": [],
   "source": []
  }
 ],
 "metadata": {
  "kernelspec": {
   "display_name": "Python 3 (ipykernel)",
   "language": "python",
   "name": "python3"
  },
  "language_info": {
   "codemirror_mode": {
    "name": "ipython",
    "version": 3
   },
   "file_extension": ".py",
   "mimetype": "text/x-python",
   "name": "python",
   "nbconvert_exporter": "python",
   "pygments_lexer": "ipython3",
   "version": "3.12.7"
  }
 },
 "nbformat": 4,
 "nbformat_minor": 5
}
