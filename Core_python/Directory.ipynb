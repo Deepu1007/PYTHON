{
 "cells": [
  {
   "cell_type": "code",
   "execution_count": 25,
   "id": "4576d66c-1ca9-4f50-aea9-e1ebf7b629d0",
   "metadata": {},
   "outputs": [
    {
     "name": "stdout",
     "output_type": "stream",
     "text": [
      "Mean of the values: 6.2\n"
     ]
    }
   ],
   "source": [
    "#1. Write a Python program and calculate the mean of the below dictionary.\n",
    "\n",
    "\n",
    "test_dict = {\"A\": 6, \"B\": 9, \"C\": 5, \"D\": 7, \"E\": 4}  # its a user directory\n",
    "\n",
    "mean_value = sum(test_dict.values()) / len(test_dict) # step os calculating the mean\n",
    "\n",
    "print(\"Mean of the values:\", mean_value) #printing the output"
   ]
  },
  {
   "cell_type": "code",
   "execution_count": 23,
   "id": "d97da178-59a3-4ec4-8592-de417501f954",
   "metadata": {},
   "outputs": [
    {
     "name": "stdout",
     "output_type": "stream",
     "text": [
      "{1: 10, 2: 20, 3: 30, 4: 40, 5: 50, 6: 60}\n"
     ]
    }
   ],
   "source": [
    "#2.Write a Python script to concatenate the following dictionaries to create a new one.\n",
    "\n",
    "\n",
    "dic1 = {1: 10, 2: 20}\n",
    "dic2 = {3: 30, 4: 40}  # user dictionaries\n",
    "dic3 = {5: 50, 6: 60}\n",
    "\n",
    "combined_dict = {**dic1, **dic2, **dic3}  # Concatenate dictionaries\n",
    "\n",
    "print(combined_dict)"
   ]
  },
  {
   "cell_type": "code",
   "execution_count": 29,
   "id": "4ded13c1-1e19-42c6-b476-652a66ec13dd",
   "metadata": {},
   "outputs": [
    {
     "name": "stdout",
     "output_type": "stream",
     "text": [
      "key\n",
      "1\n",
      "2\n",
      "3\n",
      "4\n",
      "5\n",
      "6\n",
      "\n",
      "value\n",
      "10\n",
      "20\n",
      "30\n",
      "40\n",
      "50\n",
      "60\n"
     ]
    }
   ],
   "source": [
    "#3. Write a Python program to get the key, value and item in a dictionary.\n",
    "\n",
    "\n",
    "dict_num = {1: 10, 2: 20, 3: 30, 4: 40, 5: 50, 6: 60}  # Input dictionary\n",
    "\n",
    "print(\"key\")\n",
    "for key in dict_num.keys():\n",
    "    print(key)\n",
    "\n",
    "print(\"\\nvalue\")\n",
    "for value in dict_num.values():\n",
    "    print(value)"
   ]
  },
  {
   "cell_type": "code",
   "execution_count": 31,
   "id": "673fcf08-61bb-48e4-aa45-cde856ccfe4a",
   "metadata": {},
   "outputs": [
    {
     "name": "stdout",
     "output_type": "stream",
     "text": [
      "Dictionary with Empty Items Dropped: {1: 10, 2: 20, 4: 40, 6: 60}\n"
     ]
    }
   ],
   "source": [
    "# 4 Write a Python program to get the key, value and item in a dictionary.\n",
    "\n",
    "\n",
    "input_dict = {1: 10, 2: 20, 3: None, 4: 40, 5: None, 6: 60}  # Input dictionary\n",
    "\n",
    "# Create a new dictionary with items where the value is not None\n",
    "filtered_dict = {key: value for key, value in input_dict.items() if value is not None}\n",
    "\n",
    "\n",
    "print(\"Dictionary with Empty Items Dropped:\", filtered_dict)  # Printing the output"
   ]
  },
  {
   "cell_type": "code",
   "execution_count": null,
   "id": "22a38333-82b9-47b6-9e11-a6063789f004",
   "metadata": {},
   "outputs": [],
   "source": []
  }
 ],
 "metadata": {
  "kernelspec": {
   "display_name": "Python 3 (ipykernel)",
   "language": "python",
   "name": "python3"
  },
  "language_info": {
   "codemirror_mode": {
    "name": "ipython",
    "version": 3
   },
   "file_extension": ".py",
   "mimetype": "text/x-python",
   "name": "python",
   "nbconvert_exporter": "python",
   "pygments_lexer": "ipython3",
   "version": "3.12.7"
  }
 },
 "nbformat": 4,
 "nbformat_minor": 5
}
