{
 "cells": [
  {
   "cell_type": "code",
   "execution_count": 3,
   "id": "e227e4d5-a169-41c3-a0eb-b3681e407bd7",
   "metadata": {},
   "outputs": [],
   "source": [
    "import csv"
   ]
  },
  {
   "cell_type": "code",
   "execution_count": 25,
   "id": "1aaf3811-f00b-47c8-b409-276156e0b1c0",
   "metadata": {},
   "outputs": [
    {
     "name": "stdout",
     "output_type": "stream",
     "text": [
      "['Name', 'Age', 'City']\n",
      "['Alice', 'Unknown', 'New York']\n",
      "['Bob', '25', 'Unknown']\n",
      "['Charlie', '35', 'Chicago']\n"
     ]
    }
   ],
   "source": [
    "'''1. Write a Python script to read a CSV file with missing values and replace the missing values with a default value (e.g., \"Unknown\" or 0). \n",
    "Sample Data (missing_data.csv): \n",
    "Name, Age, City \n",
    "Alice,, New York \n",
    "Bob, 25, \n",
    "Charlie, 35, Chicago \n",
    "'''\n",
    "\n",
    "import csv\n",
    "\n",
    "def replace_missing_values(filename, default_value=\"Unknown\"):\n",
    "    with open(filename, mode='r', newline='') as file:\n",
    "        reader = csv.reader(file)\n",
    "        data = []\n",
    "        \n",
    "        for row in reader:\n",
    "            # Replace missing values with the default value\n",
    "            row = [value if value else default_value for value in row]\n",
    "            data.append(row)\n",
    "    \n",
    "    return data\n",
    "\n",
    "# Example usage\n",
    "result = replace_missing_values(\"missing.csv\")\n",
    "for row in result:\n",
    "    print(row)\n"
   ]
  },
  {
   "cell_type": "code",
   "execution_count": 23,
   "id": "99eefa1f-8c9a-45f2-bcc3-2b437830f3f9",
   "metadata": {},
   "outputs": [],
   "source": [
    "import json"
   ]
  },
  {
   "cell_type": "code",
   "execution_count": null,
   "id": "e47b88aa-e04b-4981-af81-b8e7d82790ca",
   "metadata": {},
   "outputs": [],
   "source": []
  },
  {
   "cell_type": "code",
   "execution_count": 29,
   "id": "9f876511-c406-4cb4-b558-433cd57beee3",
   "metadata": {},
   "outputs": [
    {
     "name": "stdout",
     "output_type": "stream",
     "text": [
      "Invalid Product ID: 102\n",
      "Invalid Price: 40.00\n"
     ]
    }
   ],
   "source": [
    "'''2. Write a Python script to validate JSON data by checking if it contains required fields and if the data types are correct (e.g., integers for IDs, strings for names). \n",
    "Sample Data (data.json): \n",
    "L \n",
    "\"Product ID\": 101, \n",
    "\"Name\": \"Widget A\", \n",
    "\"Price\": 25.50 \n",
    "\"Product ID\": \"102\", \n",
    "\"Name\": \"Widget B\". \n",
    "\"Price\": \"40.00\" \n",
    ") \n",
    "'''\n",
    "import json\n",
    "\n",
    "def validate_product_data(product):\n",
    "    errors = []\n",
    "    \n",
    "    # Check if \"Product ID\" is an integer\n",
    "    if not isinstance(product.get(\"Product ID\"), int):\n",
    "        errors.append(f\"Invalid Product ID: {product.get('Product ID')}\")\n",
    "    \n",
    "    # Check if \"Name\" is a string\n",
    "    if not isinstance(product.get(\"Name\"), str):\n",
    "        errors.append(f\"Invalid Name: {product.get('Name')}\")\n",
    "    \n",
    "    # Check if \"Price\" is a float\n",
    "    if not isinstance(product.get(\"Price\"), (float, int)):\n",
    "        errors.append(f\"Invalid Price: {product.get('Price')}\")\n",
    "    \n",
    "    return errors\n",
    "\n",
    "def validate_json_file(file_path):\n",
    "    with open(file_path, 'r') as file:\n",
    "        try:\n",
    "            data = json.load(file)\n",
    "        except json.JSONDecodeError as e:\n",
    "            print(f\"Error decoding JSON: {e}\")\n",
    "            return\n",
    "        \n",
    "        for product in data:\n",
    "            errors = validate_product_data(product)\n",
    "            for error in errors:\n",
    "                print(error)\n",
    "\n",
    "if __name__ == \"__main__\":\n",
    "    validate_json_file('data.json')"
   ]
  }
 ],
 "metadata": {
  "kernelspec": {
   "display_name": "Python 3 (ipykernel)",
   "language": "python",
   "name": "python3"
  },
  "language_info": {
   "codemirror_mode": {
    "name": "ipython",
    "version": 3
   },
   "file_extension": ".py",
   "mimetype": "text/x-python",
   "name": "python",
   "nbconvert_exporter": "python",
   "pygments_lexer": "ipython3",
   "version": "3.12.7"
  }
 },
 "nbformat": 4,
 "nbformat_minor": 5
}
