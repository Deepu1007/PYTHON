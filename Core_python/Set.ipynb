{
 "cells": [
  {
   "cell_type": "code",
   "execution_count": 15,
   "id": "8d97a4b6-f972-4dcb-8acb-fb2f8cb2b5ef",
   "metadata": {},
   "outputs": [
    {
     "name": "stdout",
     "output_type": "stream",
     "text": [
      "(10, 20, 70, 60)\n"
     ]
    }
   ],
   "source": [
    "#1 Write a Python program to Get Only unique items from two sets.\n",
    "\n",
    "#Input: set1 (10, 20, 30, 40, 50) set2 (30, 40, 50, 60, 70)\n",
    "\n",
    "#Output: (70, 40, 10, 50, 20, 60, 30)\n",
    "\n",
    "\n",
    "# Define the two sets\n",
    "set1 = {10, 20, 30, 40, 50}\n",
    "set2 = {30, 40, 50, 60, 70}\n",
    "\n",
    "# Get unique items from both sets\n",
    "unique_items = set1.union(set2) - set1.intersection(set2)\n",
    "\n",
    "# Convert to a tuple and print the result\n",
    "result = tuple(unique_items)\n",
    "print(result)"
   ]
  },
  {
   "cell_type": "code",
   "execution_count": 17,
   "id": "4a2f8a95-9a0c-4747-a7c8-681182211655",
   "metadata": {},
   "outputs": [
    {
     "name": "stdout",
     "output_type": "stream",
     "text": [
      "(20, 70, 10, 60)\n"
     ]
    }
   ],
   "source": [
    "    #2. Write a Python program to Return a set of elements present in Set A or B, but not both\n",
    "    #Input: set1 (10, 20, 30, 40, 50) set2 (30, 40, 50, 60, 70)\n",
    "    #Output: (20, 70, 10, 60)\n",
    "\n",
    "# Define the two sets\n",
    "set1 = {10, 20, 30, 40, 50}\n",
    "set2 = {30, 40, 50, 60, 70}\n",
    "\n",
    "# Get elements present in either set1 or set2, but not both\n",
    "unique_items = set1.symmetric_difference(set2)\n",
    "\n",
    "# Convert to a tuple and print the result\n",
    "result = tuple(unique_items)\n",
    "print(result)"
   ]
  },
  {
   "cell_type": "code",
   "execution_count": 23,
   "id": "adaee467-13aa-43e3-bae2-e50de06e2f05",
   "metadata": {},
   "outputs": [
    {
     "name": "stdout",
     "output_type": "stream",
     "text": [
      "(10,)\n"
     ]
    }
   ],
   "source": [
    "#3 Write a Python program to Check if two sets have any elements in common. If yes, display the common elements.\n",
    "#Input: set1(10, 20, 30, 40, 50) set2 (60, 70, 80, 90, 10)\n",
    "#Output: (10)\n",
    "\n",
    "# Define the two sets\n",
    "set1 = {10, 20, 30, 40, 50}\n",
    "set2 = {60, 70, 80, 90, 10}\n",
    "\n",
    "# Find common elements\n",
    "common = set1.intersection(set2)\n",
    "\n",
    "# Check if there are common elements and print them\n",
    "if common:\n",
    "    print(tuple(common))\n",
    "else:\n",
    "    print(\"No common elements\")"
   ]
  },
  {
   "cell_type": "code",
   "execution_count": 25,
   "id": "de0a13f4-d2a0-4a7d-b52b-0b8e4a394ada",
   "metadata": {},
   "outputs": [
    {
     "name": "stdout",
     "output_type": "stream",
     "text": [
      "(40, 50, 30)\n"
     ]
    }
   ],
   "source": [
    "#4 . Write a Python program to Remove items from set1 that are not common to both set1 and set2.\n",
    "#Input: set1 (10, 20, 30, 40, 50) set2 (30, 40, 50, 60, 70)\n",
    "#Output: (40, 50, 30)\n",
    "\n",
    "# Define the two sets\n",
    "set1 = {10, 20, 30, 40, 50}\n",
    "set2 = {30, 40, 50, 60, 70}\n",
    "\n",
    "# Keep only the items that are common to both sets\n",
    "set1.intersection_update(set2)\n",
    "\n",
    "# Convert the result to a tuple and print it\n",
    "result = tuple(set1)\n",
    "print(result)"
   ]
  },
  {
   "cell_type": "code",
   "execution_count": null,
   "id": "b3514a9c-f9c0-4dd6-af44-6df8167d4857",
   "metadata": {},
   "outputs": [],
   "source": []
  }
 ],
 "metadata": {
  "kernelspec": {
   "display_name": "Python 3 (ipykernel)",
   "language": "python",
   "name": "python3"
  },
  "language_info": {
   "codemirror_mode": {
    "name": "ipython",
    "version": 3
   },
   "file_extension": ".py",
   "mimetype": "text/x-python",
   "name": "python",
   "nbconvert_exporter": "python",
   "pygments_lexer": "ipython3",
   "version": "3.12.7"
  }
 },
 "nbformat": 4,
 "nbformat_minor": 5
}
