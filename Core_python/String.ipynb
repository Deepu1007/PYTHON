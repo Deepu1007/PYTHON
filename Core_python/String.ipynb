{
 "cells": [
  {
   "cell_type": "code",
   "execution_count": 21,
   "id": "5227c67b-ce68-4c55-a1b6-d7eb3223e5c2",
   "metadata": {},
   "outputs": [
    {
     "name": "stdout",
     "output_type": "stream",
     "text": [
      "Counter({'the': 3, 'to': 2, 'change': 2, 'look': 2, 'overall': 1, 'of': 1, 'your': 1, 'document': 1, 'available': 1, 'in': 1, 'gallery': 1})\n"
     ]
    }
   ],
   "source": [
    "#1 .Write a Python program to count the occurrences of each word in a given sentence\n",
    "#string = \"To change the overall look of your document. To change the look available in the gallery\"\n",
    "\n",
    "from collections import Counter\n",
    "\n",
    "string = \"To change the overall look of your document. To change the look available in the gallery\"\n",
    "word_count = Counter(word.lower().strip('. ') for word in string.split())\n",
    "print(word_count)"
   ]
  },
  {
   "cell_type": "code",
   "execution_count": 23,
   "id": "f342163e-306d-4f3b-aead-d129f09bf604",
   "metadata": {},
   "outputs": [
    {
     "name": "stdout",
     "output_type": "stream",
     "text": [
      "Best Deeptech Python Training\n"
     ]
    }
   ],
   "source": [
    "#2. Write a Python program to remove a newline in Python\n",
    "#String = \"\\nBest \\nDeeptech \\nPython \\nTraining\\n\"\n",
    "\n",
    "string = \"\\nBest \\nDeeptech \\nPython \\nTraining\\n\"\n",
    "remove = string.replace('\\n', '')\n",
    "print(remove)"
   ]
  },
  {
   "cell_type": "code",
   "execution_count": 11,
   "id": "86ac9ecd-cb53-4035-ae09-0a644bd77cbb",
   "metadata": {},
   "outputs": [
    {
     "name": "stdout",
     "output_type": "stream",
     "text": [
      "Reversed words: Training Python Deeptech\n"
     ]
    }
   ],
   "source": [
    "#3. Write a Python program to reverse words in a string\n",
    "#String = \"Deeptech Python Training\"\n",
    "\n",
    "str1 = \"Deeptech Python Training\"\n",
    "reverse = ' '.join(str1.split()[::-1])\n",
    "print(\"Reversed words:\", reverse)"
   ]
  },
  {
   "cell_type": "code",
   "execution_count": 19,
   "id": "2103d277-f948-45c6-97e2-f6a4d6b38d0a",
   "metadata": {},
   "outputs": [
    {
     "name": "stdout",
     "output_type": "stream",
     "text": [
      "Vowel count: 8\n"
     ]
    }
   ],
   "source": [
    "#4. Write a Python program to count and display the vowels of a given text\n",
    "#String=\"Welcome to python Training\"\n",
    "\n",
    "text = \"Welcome to python Training\"\n",
    "vowels = \"aeiouAEIOU\"\n",
    "count = sum(1 for char in text if char in vowels)\n",
    "print(\"Vowel count:\", count)"
   ]
  }
 ],
 "metadata": {
  "kernelspec": {
   "display_name": "Python 3 (ipykernel)",
   "language": "python",
   "name": "python3"
  },
  "language_info": {
   "codemirror_mode": {
    "name": "ipython",
    "version": 3
   },
   "file_extension": ".py",
   "mimetype": "text/x-python",
   "name": "python",
   "nbconvert_exporter": "python",
   "pygments_lexer": "ipython3",
   "version": "3.12.7"
  }
 },
 "nbformat": 4,
 "nbformat_minor": 5
}
