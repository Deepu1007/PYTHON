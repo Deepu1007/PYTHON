{
 "cells": [
  {
   "cell_type": "code",
   "execution_count": 9,
   "id": "cd503a84-bc4d-4ee8-9b87-f7d5c982c4f0",
   "metadata": {},
   "outputs": [
    {
     "name": "stdout",
     "output_type": "stream",
     "text": [
      "Letters: 8\n",
      "Digits: 3\n",
      "Special Symbols: 4\n"
     ]
    }
   ],
   "source": [
    "#1. Write a Python program to Count all letters, digits, and special symbols from the given string\n",
    "#Input = \"P@#yn26at^&i5ve\"\n",
    "\n",
    "input_string = \"P@#yn26at^&i5ve\"\n",
    "\n",
    "letters = sum(c.isalpha() for c in input_string)\n",
    "digits = sum(c.isdigit() for c in input_string)\n",
    "special_symbols = sum(not c.isalnum() for c in input_string)\n",
    "\n",
    "print(\"Letters:\", letters)\n",
    "print(\"Digits:\", digits)\n",
    "print(\"Special Symbols:\", special_symbols)\n",
    "\n"
   ]
  },
  {
   "cell_type": "code",
   "execution_count": 11,
   "id": "87a07692-2ae3-4d46-b9f1-77e218c17cd8",
   "metadata": {},
   "outputs": [
    {
     "name": "stdout",
     "output_type": "stream",
     "text": [
      "String adFuco\n"
     ]
    }
   ],
   "source": [
    "#2. Write a Python program to remove duplicate characters of a given string.\n",
    "#Input = \"String and String Function\"\n",
    "#Output: String and Function\n",
    "\n",
    "input_string = \"String and String Function\"\n",
    "output_string = ''.join(dict.fromkeys(input_string))\n",
    "print(output_string)"
   ]
  },
  {
   "cell_type": "code",
   "execution_count": 13,
   "id": "0e62052b-7e8c-4f70-a314-74b30145ef47",
   "metadata": {},
   "outputs": [
    {
     "name": "stdout",
     "output_type": "stream",
     "text": [
      "Uppercase: 5\n",
      "Lowercase: 20\n",
      "Digits: 3\n",
      "Special Characters: 2\n"
     ]
    }
   ],
   "source": [
    "#3. Write a Python program to count Uppercase, Lowercase, special character and numeric values in a given string\n",
    "\n",
    "#Input = \"Hello World! 123 # welcome to pYtHoN\"\n",
    "\n",
    "input_string = \"Hello World! 123 # welcome to pYtHoN\"\n",
    "\n",
    "upper_count = sum(c.isupper() for c in input_string)\n",
    "lower_count = sum(c.islower() for c in input_string)\n",
    "digit_count = sum(c.isdigit() for c in input_string)\n",
    "special_count = sum(not c.isalnum() and not c.isspace() for c in input_string)\n",
    "\n",
    "print(\"Uppercase:\", upper_count)\n",
    "print(\"Lowercase:\", lower_count)\n",
    "print(\"Digits:\", digit_count)\n",
    "print(\"Special Characters:\", special_count)"
   ]
  },
  {
   "cell_type": "code",
   "execution_count": 15,
   "id": "1c1c7469-ca87-4519-aa61-ae721089db3e",
   "metadata": {},
   "outputs": [
    {
     "name": "stdout",
     "output_type": "stream",
     "text": [
      "Vowel count: 8\n"
     ]
    }
   ],
   "source": [
    "#4. Write a Python Count vowels in a string\n",
    "#input= \"Welcome to Python Assignment\"\n",
    "\n",
    "text = \"Welcome to Python Assignment\"\n",
    "vowels = \"aeiouAEIOU\"\n",
    "count = sum(1 for char in text if char in vowels)\n",
    "print(\"Vowel count:\", count)"
   ]
  },
  {
   "cell_type": "code",
   "execution_count": null,
   "id": "844568c5-495a-4220-aa38-903910ac2a4b",
   "metadata": {},
   "outputs": [],
   "source": []
  }
 ],
 "metadata": {
  "kernelspec": {
   "display_name": "Python 3 (ipykernel)",
   "language": "python",
   "name": "python3"
  },
  "language_info": {
   "codemirror_mode": {
    "name": "ipython",
    "version": 3
   },
   "file_extension": ".py",
   "mimetype": "text/x-python",
   "name": "python",
   "nbconvert_exporter": "python",
   "pygments_lexer": "ipython3",
   "version": "3.12.7"
  }
 },
 "nbformat": 4,
 "nbformat_minor": 5
}
