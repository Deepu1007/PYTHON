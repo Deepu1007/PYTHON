{
 "cells": [
  {
   "cell_type": "code",
   "execution_count": 1,
   "id": "b2d0b544-d6e8-463e-9b17-987165338d7c",
   "metadata": {},
   "outputs": [
    {
     "name": "stdout",
     "output_type": "stream",
     "text": [
      "Name: Alice\n",
      "Age: 20\n",
      "Marks:\n",
      "  Math: 85\n",
      "  Science: 90\n",
      "  English: 78\n",
      "Average Marks: 84.33\n"
     ]
    }
   ],
   "source": [
    "'''\n",
    "Lab3: Student Management System \n",
    "Create a class Student that stores details about a student \n",
    "1. Instance Attributes: \n",
    "name: The student's name. \n",
    "age: The student's age \n",
    "marks: A dictionary to store subject names as keys and corresponding marks as values. \n",
    "2. Methods: \n",
    "add_marks(self, subject, mark): Adds marks for a subject. \n",
    "⚫ get_average_marks(self): Returns the average marks for the student. \n",
    "display_student_info(self): Displays the student's name, age, and marks. \n",
    "\n",
    "'''\n",
    "class Student:\n",
    "    def __init__(self, name, age):\n",
    "        self.name = name\n",
    "        self.age = age\n",
    "        self.marks = {}\n",
    "\n",
    "    def add_marks(self, subject, mark):\n",
    "        self.marks[subject] = mark\n",
    "\n",
    "    def get_average_marks(self):\n",
    "        if not self.marks:\n",
    "            return 0  # Return 0 if no marks are available\n",
    "        total_marks = sum(self.marks.values())\n",
    "        average = total_marks / len(self.marks)\n",
    "        return average\n",
    "\n",
    "    def display_student_info(self):\n",
    "        print(f\"Name: {self.name}\")\n",
    "        print(f\"Age: {self.age}\")\n",
    "        print(\"Marks:\")\n",
    "        for subject, mark in self.marks.items():\n",
    "            print(f\"  {subject}: {mark}\")\n",
    "\n",
    "# Example usage:\n",
    "student = Student(\"Alice\", 20)\n",
    "student.add_marks(\"Math\", 85)\n",
    "student.add_marks(\"Science\", 90)\n",
    "student.add_marks(\"English\", 78)\n",
    "\n",
    "student.display_student_info()\n",
    "average_marks = student.get_average_marks()\n",
    "print(f\"Average Marks: {average_marks:.2f}\")\n"
   ]
  },
  {
   "cell_type": "code",
   "execution_count": 5,
   "id": "c6523e06-3a10-4c9f-84a8-2aa553cab6d5",
   "metadata": {},
   "outputs": [
    {
     "name": "stdout",
     "output_type": "stream",
     "text": [
      "Name: John Doe\n",
      "Salary: $50000.00\n",
      "Position: Software Engineer\n",
      "\n",
      "After promotion and salary update:\n",
      "Name: John Doe\n",
      "Salary: $60000.00\n",
      "Position: Senior Software Engineer\n"
     ]
    }
   ],
   "source": [
    "'''\n",
    "Lab4: Employee Management \n",
    "Create a class Employee that manages employee details: \n",
    "1. Instance Attributes: \n",
    "name: The employee's name \n",
    "salary: The employee's salary. \n",
    "position: The employee's position. \n",
    "2. Methods: \n",
    "• promote(self, new_position): Updates the employee's position. \n",
    "update_salary(self, new_salary): Updates the employee's salary. \n",
    "• display_info(self): Displays the employee's name, position, and salary.\n",
    "'''\n",
    "\n",
    "class Employee:\n",
    "    def __init__(self, name, salary, position):\n",
    "        self.name = name\n",
    "        self.salary = salary\n",
    "        self.position = position\n",
    "\n",
    "    def promote(self, new_position):\n",
    "        self.position = new_position\n",
    "\n",
    "    def update_salary(self, new_salary):\n",
    "        self.salary = new_salary\n",
    "\n",
    "    def display_info(self):\n",
    "        print(f\"Name: {self.name}\")\n",
    "        print(f\"Salary: ${self.salary:.2f}\")\n",
    "        print(f\"Position: {self.position}\")\n",
    "        \n",
    "\n",
    "# Example usage:\n",
    "employee = Employee(\"John Doe\", 50000, \"Software Engineer\")\n",
    "employee.display_info()\n",
    "\n",
    "# Promoting the employee\n",
    "employee.promote(\"Senior Software Engineer\")\n",
    "# Updating the salary\n",
    "employee.update_salary(60000)\n",
    "\n",
    "# Displaying updated information\n",
    "print(\"\\nAfter promotion and salary update:\")\n",
    "employee.display_info()"
   ]
  },
  {
   "cell_type": "code",
   "execution_count": null,
   "id": "fca82cd2-a5e2-471f-905f-0ee4a2e9eb0a",
   "metadata": {},
   "outputs": [],
   "source": []
  }
 ],
 "metadata": {
  "kernelspec": {
   "display_name": "Python 3 (ipykernel)",
   "language": "python",
   "name": "python3"
  },
  "language_info": {
   "codemirror_mode": {
    "name": "ipython",
    "version": 3
   },
   "file_extension": ".py",
   "mimetype": "text/x-python",
   "name": "python",
   "nbconvert_exporter": "python",
   "pygments_lexer": "ipython3",
   "version": "3.12.7"
  }
 },
 "nbformat": 4,
 "nbformat_minor": 5
}
