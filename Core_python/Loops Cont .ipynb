{
 "cells": [
  {
   "cell_type": "code",
   "execution_count": 1,
   "id": "0508314d-4cf6-4f27-b457-6bef81881996",
   "metadata": {},
   "outputs": [
    {
     "name": "stdout",
     "output_type": "stream",
     "text": [
      "1\n",
      "2\n",
      "3\n",
      "4\n",
      "5\n",
      "6\n",
      "7\n",
      "8\n",
      "9\n",
      "10\n"
     ]
    }
   ],
   "source": [
    "#1. Print the first 10 natural numbers using for loop\n",
    "\n",
    "# Print the first 10 natural numbers\n",
    "for i in range(1, 11):\n",
    "    print(i)"
   ]
  },
  {
   "cell_type": "code",
   "execution_count": 5,
   "id": "3faefa01-b04f-418e-a575-a9f242173535",
   "metadata": {},
   "outputs": [
    {
     "name": "stdin",
     "output_type": "stream",
     "text": [
      "Enter a string:  deed\n"
     ]
    },
    {
     "name": "stdout",
     "output_type": "stream",
     "text": [
      "\"deed\" is a palindrome.\n"
     ]
    }
   ],
   "source": [
    "#2. Python program to check if the given string is a palindrome\n",
    "\n",
    "def is_palindrome(s):\n",
    "   \n",
    "    s = s.replace(\" \", \"\").lower()  \n",
    "    return s == s[::-1]\n",
    "\n",
    "input_string = input(\"Enter a string: \")\n",
    "\n",
    "if is_palindrome(input_string):\n",
    "    print(f'\"{input_string}\" is a palindrome.')\n",
    "else:\n",
    "    print(f'\"{input_string}\" is not a palindrome.')"
   ]
  },
  {
   "cell_type": "code",
   "execution_count": 23,
   "id": "01c297b0-5cf4-4736-bd9d-b7cfc5e97563",
   "metadata": {},
   "outputs": [
    {
     "name": "stdin",
     "output_type": "stream",
     "text": [
      "Enter a number:  153\n"
     ]
    },
    {
     "name": "stdout",
     "output_type": "stream",
     "text": [
      "153 is an Armstrong number.\n"
     ]
    }
   ],
   "source": [
    "#3. Python program to check if a given number is an Armstrong number\n",
    "\n",
    "def is_armstrong_number(num):\n",
    "    \n",
    "    digits = str(num)\n",
    "    num_digits = len(digits) \n",
    "    sum_of_powers = sum(int(digit) ** num_digits for digit in digits)\n",
    "    return sum_of_powers == num\n",
    "\n",
    "# Input from the user\n",
    "input_number = int(input(\"Enter a number: \"))\n",
    "\n",
    "# Check if the number is an Armstrong number\n",
    "if is_armstrong_number(input_number):\n",
    "    print(f\"{input_number} is an Armstrong number.\")\n",
    "else:\n",
    "    print(f\"{input_number} is not an Armstrong number.\")"
   ]
  },
  {
   "cell_type": "code",
   "execution_count": 11,
   "id": "cbf92f63-719c-4d6b-a7e8-685a61e7b21e",
   "metadata": {},
   "outputs": [
    {
     "name": "stdout",
     "output_type": "stream",
     "text": [
      "Fibonacci series between 0 and 50:\n",
      "[0, 1, 1, 2, 3, 5, 8, 13, 21, 34]\n"
     ]
    }
   ],
   "source": [
    "#4. Python program to get the Fibonacci series between 0 to 50\n",
    "\n",
    "def fibonacci_series(limit):\n",
    "    fib_series = []\n",
    "    a, b = 0, 1\n",
    "    while a <= limit:\n",
    "        fib_series.append(a)\n",
    "        a, b = b, a + b  # Update a and b to the next two Fibonacci numbers\n",
    "    return fib_series\n",
    "\n",
    "# Get the Fibonacci series up to 50\n",
    "fibonacci_numbers = fibonacci_series(50)\n",
    "\n",
    "# Print the Fibonacci series\n",
    "print(\"Fibonacci series between 0 and 50:\")\n",
    "print(fibonacci_numbers)\n"
   ]
  },
  {
   "cell_type": "code",
   "execution_count": 15,
   "id": "3438d344-3333-45b7-b0a4-3fca7b07c2f5",
   "metadata": {},
   "outputs": [
    {
     "name": "stdin",
     "output_type": "stream",
     "text": [
      "Enter a password:  Hunter@0852\n"
     ]
    },
    {
     "name": "stdout",
     "output_type": "stream",
     "text": [
      "Password is valid.\n"
     ]
    }
   ],
   "source": [
    "#5. Python program to check the validity of password input by users\n",
    "\n",
    "import re\n",
    "\n",
    "def is_valid_password(password):\n",
    "    if len(password) < 8:\n",
    "        return False\n",
    "    if not re.search(r\"[A-Z]\", password):\n",
    "        return False\n",
    "    if not re.search(r\"[a-z]\", password):\n",
    "        return False\n",
    "    if not re.search(r\"[0-9]\", password):\n",
    "        return False\n",
    "    if not re.search(r\"[!@#$%^&*(),.?\\\":{}|<>]\", password):\n",
    "        return False\n",
    "    return True\n",
    "\n",
    "user_password = input(\"Enter a password: \")\n",
    "\n",
    "if is_valid_password(user_password):\n",
    "    print(\"Password is valid.\")\n",
    "else:\n",
    "    print(\"Password is invalid.\") \n",
    "    print(\"It must be at least 8 characters long\")\n",
    "    print(\"it contain at least one uppercase letter\")\n",
    "    print(\"one lowercase letter\")\n",
    "    print(\"one digit\")\n",
    "    print(\" one special character.\")"
   ]
  },
  {
   "cell_type": "code",
   "execution_count": null,
   "id": "f194d805-e4ba-469e-9749-820d7f7c63f3",
   "metadata": {},
   "outputs": [],
   "source": []
  }
 ],
 "metadata": {
  "kernelspec": {
   "display_name": "Python 3 (ipykernel)",
   "language": "python",
   "name": "python3"
  },
  "language_info": {
   "codemirror_mode": {
    "name": "ipython",
    "version": 3
   },
   "file_extension": ".py",
   "mimetype": "text/x-python",
   "name": "python",
   "nbconvert_exporter": "python",
   "pygments_lexer": "ipython3",
   "version": "3.12.7"
  }
 },
 "nbformat": 4,
 "nbformat_minor": 5
}
