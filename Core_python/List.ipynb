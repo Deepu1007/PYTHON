{
 "cells": [
  {
   "cell_type": "code",
   "execution_count": 1,
   "id": "8c1e1b2e-7450-4cd3-aa22-2516a1a02fc8",
   "metadata": {},
   "outputs": [
    {
     "name": "stdout",
     "output_type": "stream",
     "text": [
      "The sum of the list is: 15\n"
     ]
    }
   ],
   "source": [
    "#1. Write a Python program to sum all the items in a list.# Define a list of numbers\n",
    "\n",
    "numbers = [1, 2, 3, 4, 5]\n",
    "\n",
    "total = sum(numbers)  #it will add numbers in the list\n",
    "\n",
    "print(\"The sum of the list is:\", total)"
   ]
  },
  {
   "cell_type": "code",
   "execution_count": 3,
   "id": "4db68401-270c-4f89-aaac-17e6923fcfec",
   "metadata": {},
   "outputs": [
    {
     "name": "stdout",
     "output_type": "stream",
     "text": [
      "Largest number: 9\n",
      "Smallest number: 1\n"
     ]
    }
   ],
   "source": [
    "#2.Write a Python program to get the largest and smallest number from a list without builtin functions.\n",
    "\n",
    "\n",
    "numbers = [3, 1, 4, 1, 5, 9, 2]\n",
    "\n",
    "\n",
    "largest = smallest = numbers[0]  #both smallest and largest value will be assigned to numbers\n",
    "\n",
    "for num in numbers:\n",
    "    if num > largest:\n",
    "        largest = num\n",
    "    if num < smallest:\n",
    "        smallest = num\n",
    "\n",
    "\n",
    "print(\"Largest number:\", largest)\n",
    "print(\"Smallest number:\", smallest)"
   ]
  },
  {
   "cell_type": "code",
   "execution_count": 11,
   "id": "18b97a9d-acc9-4ad3-a542-104edda43bdd",
   "metadata": {},
   "outputs": [
    {
     "name": "stdout",
     "output_type": "stream",
     "text": [
      "Duplicate values: [1, 2, 3]\n"
     ]
    }
   ],
   "source": [
    "#3. Write a Python program to find duplicate values from a list and display those.\n",
    "\n",
    "# Define a list of numbers\n",
    "numbers = [1, 2, 3, 2, 4, 5, 1, 6, 3]\n",
    "\n",
    "duplicates = []\n",
    "\n",
    "for i in numbers:\n",
    "    if numbers.count(i) > 1 and i not in duplicates:\n",
    "        duplicates.append(i)\n",
    "\n",
    "\n",
    "print(\"Duplicate values:\", duplicates)"
   ]
  },
  {
   "cell_type": "code",
   "execution_count": 13,
   "id": "0541ccab-ba08-4987-b960-5db7b54575d6",
   "metadata": {},
   "outputs": [
    {
     "name": "stdout",
     "output_type": "stream",
     "text": [
      "Splitted the said list into two parts: ([1, 1, 2], [3, 4, 4, 5, 1])\n"
     ]
    }
   ],
   "source": [
    "#4. Write a Python program to split a given list into two parts where the length of the first part of the list is given.\n",
    "#Original list: [1, 1, 2, 3, 4, 4, 5, 1)\n",
    "#Length of the first part of the list: 3\n",
    "#Splitted the said list into two parts: ([1, 1, 2], [3, 4, 4, 5, 1])\n",
    "\n",
    "\n",
    "original = [1, 1, 2, 3, 4, 4, 5, 1]\n",
    "\n",
    "length = 3\n",
    "\n",
    "first = original[:length]\n",
    "second = original[length:]\n",
    "\n",
    "print(\"Splitted the said list into two parts:\", (first, second))"
   ]
  },
  {
   "cell_type": "code",
   "execution_count": 17,
   "id": "6292eacb-d88c-4f7d-a148-e7bccaac0d62",
   "metadata": {},
   "outputs": [],
   "source": [
    "#5. Write a Python program to traverse a given list in reverse order, and print the elements with the original index.\n",
    "#Original list:\n",
    "#['red', 'green', 'white', 'black']\n",
    "\n",
    "#Traverse the said list in reverse order:\n",
    "#black\n",
    "#white\n",
    "#green\n",
    "#red\n",
    "\n",
    "\n",
    "colors = ['red', 'green', 'white', 'black']\n",
    "\n",
    "for index in range(len(colors)  -1, -1, -1):  #sequence  range of the number \n",
    "    print(colors[index])\n",
    "    "
   ]
  },
  {
   "cell_type": "code",
   "execution_count": null,
   "id": "cfede303-c8b5-43a2-88d7-0ef5174e0e11",
   "metadata": {},
   "outputs": [],
   "source": []
  }
 ],
 "metadata": {
  "kernelspec": {
   "display_name": "Python 3 (ipykernel)",
   "language": "python",
   "name": "python3"
  },
  "language_info": {
   "codemirror_mode": {
    "name": "ipython",
    "version": 3
   },
   "file_extension": ".py",
   "mimetype": "text/x-python",
   "name": "python",
   "nbconvert_exporter": "python",
   "pygments_lexer": "ipython3",
   "version": "3.12.7"
  }
 },
 "nbformat": 4,
 "nbformat_minor": 5
}
