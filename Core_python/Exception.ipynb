{
 "cells": [
  {
   "cell_type": "code",
   "execution_count": 1,
   "id": "b549057a-c463-49e5-bc06-a3d3c9737f3a",
   "metadata": {},
   "outputs": [
    {
     "name": "stdin",
     "output_type": "stream",
     "text": [
      "Enter the numerator:  12\n",
      "Enter the denominator:  12\n"
     ]
    },
    {
     "name": "stdout",
     "output_type": "stream",
     "text": [
      "Result: 1.0\n"
     ]
    }
   ],
   "source": [
    "#1. Write a Python program to handle a ZeroDivisionError exception when dividing a number by zero.\n",
    "try:\n",
    "    # Input numbers\n",
    "    numerator = float(input(\"Enter the numerator: \"))\n",
    "    denominator = float(input(\"Enter the denominator: \"))\n",
    "    \n",
    "    # Perform division\n",
    "    result = numerator / denominator\n",
    "    print(\"Result:\", result)\n",
    "\n",
    "except ZeroDivisionError:\n",
    "    print(\"Error: Cannot divide by zero.\")"
   ]
  },
  {
   "cell_type": "code",
   "execution_count": 17,
   "id": "d506da65-8557-4e3e-a993-f7e56b90bcb4",
   "metadata": {},
   "outputs": [
    {
     "name": "stdin",
     "output_type": "stream",
     "text": [
      "Enter an integer:  12.7\n"
     ]
    },
    {
     "name": "stdout",
     "output_type": "stream",
     "text": [
      "Error: Invalid input. Please enter a valid integer.\n"
     ]
    }
   ],
   "source": [
    "#2. Write a Python program that prompts the user to input an integer and raises a ValueError exception if the input is not a valid integer.\n",
    "\n",
    "try:\n",
    "    # Prompt user for input\n",
    "    user_input = input(\"Enter an integer: \")\n",
    "    \n",
    "    # Try to convert input to an integer\n",
    "    number = int(user_input)\n",
    "    print(\"You entered:\", number)\n",
    "\n",
    "except ValueError:\n",
    "    print(\"Error: Invalid input. Please enter a valid integer.\")"
   ]
  },
  {
   "cell_type": "code",
   "execution_count": 9,
   "id": "db4a4daa-3c17-4f18-8d5f-434ced72923b",
   "metadata": {},
   "outputs": [
    {
     "name": "stdin",
     "output_type": "stream",
     "text": [
      "Enter the filename to open:  Lab 1.ipynb\n"
     ]
    },
    {
     "name": "stdout",
     "output_type": "stream",
     "text": [
      "Error: The file does not exist.\n"
     ]
    }
   ],
   "source": [
    "#3. Write a Python program that opens a file and handles a FileNotFoundError exception if the file does not exist.\n",
    "\n",
    "try:\n",
    "    # Attempt to open the file\n",
    "    filename = input(\"Enter the filename to open: \")\n",
    "    with open(filename, 'r') as file:\n",
    "        content = file.read()\n",
    "        print(\"File content:\\n\", content)\n",
    "\n",
    "except FileNotFoundError:\n",
    "    print(\"Error: The file does not exist.\")"
   ]
  },
  {
   "cell_type": "code",
   "execution_count": 15,
   "id": "264fe5f0-edd0-4089-a471-c1a3da97f7e8",
   "metadata": {},
   "outputs": [
    {
     "name": "stdin",
     "output_type": "stream",
     "text": [
      "Enter the first number:  12.5\n",
      "Enter the second number:  12.6\n"
     ]
    },
    {
     "name": "stdout",
     "output_type": "stream",
     "text": [
      "The sum is: 25.1\n"
     ]
    }
   ],
   "source": [
    "#4. Write a Python program that prompts the user to input two numbers and raises a TypeError exception if the inputs are not numerical\n",
    "\n",
    "try:\n",
    "    # Prompt user for input\n",
    "    num1 = input(\"Enter the first number: \")\n",
    "    num2 = input(\"Enter the second number: \")\n",
    "    \n",
    "    # Try to convert inputs to float\n",
    "    number1 = float(num1)\n",
    "    number2 = float(num2)\n",
    "    \n",
    "    # Print the sum of the two numbers\n",
    "    print(\"The sum is:\", number1 + number2)\n",
    "\n",
    "except ValueError:\n",
    "    print(\"Error: Invalid input. Please enter numerical values.\")"
   ]
  },
  {
   "cell_type": "code",
   "execution_count": null,
   "id": "08ace10f-f528-4aba-9031-5cbc639341bf",
   "metadata": {},
   "outputs": [],
   "source": []
  }
 ],
 "metadata": {
  "kernelspec": {
   "display_name": "Python 3 (ipykernel)",
   "language": "python",
   "name": "python3"
  },
  "language_info": {
   "codemirror_mode": {
    "name": "ipython",
    "version": 3
   },
   "file_extension": ".py",
   "mimetype": "text/x-python",
   "name": "python",
   "nbconvert_exporter": "python",
   "pygments_lexer": "ipython3",
   "version": "3.12.7"
  }
 },
 "nbformat": 4,
 "nbformat_minor": 5
}
